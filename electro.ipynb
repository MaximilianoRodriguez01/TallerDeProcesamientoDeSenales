{
 "cells": [
  {
   "cell_type": "code",
   "execution_count": 1,
   "metadata": {},
   "outputs": [],
   "source": [
    "import numpy as np\n",
    "import matplotlib.pyplot as plt\n",
    "import matplotlib.cm as cm\n",
    "import matplotlib.colors as mcolors"
   ]
  },
  {
   "cell_type": "code",
   "execution_count": 2,
   "metadata": {},
   "outputs": [
    {
     "name": "stdout",
     "output_type": "stream",
     "text": [
      "σ / (ωε) = 8.99\n",
      "α = 37.59 Np/m\n",
      "β = 42.01 rad/m\n"
     ]
    }
   ],
   "source": [
    "import numpy as np\n",
    "\n",
    "# Constantes físicas\n",
    "epsilon_0 = 8.85e-12      # Permisividad del vacío [F/m]\n",
    "mu_0 = 4 * np.pi * 1e-7   # Permeabilidad del vacío [H/m]\n",
    "\n",
    "# Datos del problema\n",
    "f = 100e6                 # Frecuencia [Hz]\n",
    "omega = 2 * np.pi * f     # Pulsación [rad/s]\n",
    "epsilon_r = 80            # Permisividad relativa del agua\n",
    "mu_r = 1                  # Permeabilidad relativa\n",
    "sigma = 4                 # Conductividad [S/m]\n",
    "\n",
    "# Parámetros del medio\n",
    "epsilon = epsilon_r * epsilon_0\n",
    "mu = mu_r * mu_0\n",
    "\n",
    "# Parámetro adimensional\n",
    "sigma_sobre_omega_epsilon = sigma / (omega * epsilon)\n",
    "\n",
    "# Factor común\n",
    "factor = omega * np.sqrt(mu * epsilon / 2)\n",
    "\n",
    "# Cálculo de α y β\n",
    "alpha = factor * np.sqrt(np.sqrt(1 + sigma_sobre_omega_epsilon**2) - 1)\n",
    "beta  = factor * np.sqrt(np.sqrt(1 + sigma_sobre_omega_epsilon**2) + 1)\n",
    "\n",
    "# Mostrar resultados\n",
    "print(f\"σ / (ωε) = {sigma_sobre_omega_epsilon:.2f}\")\n",
    "print(f\"α = {alpha:.2f} Np/m\")\n",
    "print(f\"β = {beta:.2f} rad/m\")"
   ]
  },
  {
   "cell_type": "code",
   "execution_count": null,
   "metadata": {},
   "outputs": [],
   "source": []
  }
 ],
 "metadata": {
  "kernelspec": {
   "display_name": "base",
   "language": "python",
   "name": "python3"
  },
  "language_info": {
   "codemirror_mode": {
    "name": "ipython",
    "version": 3
   },
   "file_extension": ".py",
   "mimetype": "text/x-python",
   "name": "python",
   "nbconvert_exporter": "python",
   "pygments_lexer": "ipython3",
   "version": "3.11.7"
  }
 },
 "nbformat": 4,
 "nbformat_minor": 2
}
