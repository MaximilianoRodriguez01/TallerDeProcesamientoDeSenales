{
 "cells": [
  {
   "cell_type": "markdown",
   "id": "3f636697",
   "metadata": {},
   "source": [
    "# Analisis de discriminante y k-vecinos"
   ]
  },
  {
   "cell_type": "code",
   "execution_count": 87,
   "id": "e6737ab7",
   "metadata": {},
   "outputs": [],
   "source": [
    "import numpy as np\n",
    "import pandas as pd\n",
    "import matplotlib.pyplot as plt\n",
    "import sklearn\n",
    "from sklearn import datasets"
   ]
  },
  {
   "cell_type": "code",
   "execution_count": 88,
   "id": "24ebf346",
   "metadata": {},
   "outputs": [
    {
     "data": {
      "application/vnd.microsoft.datawrangler.viewer.v0+json": {
       "columns": [
        {
         "name": "index",
         "rawType": "int64",
         "type": "integer"
        },
        {
         "name": "sepal length (cm)",
         "rawType": "float64",
         "type": "float"
        },
        {
         "name": "sepal width (cm)",
         "rawType": "float64",
         "type": "float"
        },
        {
         "name": "species",
         "rawType": "int32",
         "type": "integer"
        }
       ],
       "conversionMethod": "pd.DataFrame",
       "ref": "9755b496-7d3c-45d6-a8e9-05be97b2fc88",
       "rows": [
        [
         "0",
         "5.1",
         "3.5",
         "0"
        ],
        [
         "1",
         "4.9",
         "3.0",
         "0"
        ],
        [
         "2",
         "4.7",
         "3.2",
         "0"
        ],
        [
         "3",
         "4.6",
         "3.1",
         "0"
        ],
        [
         "4",
         "5.0",
         "3.6",
         "0"
        ],
        [
         "5",
         "5.4",
         "3.9",
         "0"
        ],
        [
         "6",
         "4.6",
         "3.4",
         "0"
        ],
        [
         "7",
         "5.0",
         "3.4",
         "0"
        ],
        [
         "8",
         "4.4",
         "2.9",
         "0"
        ],
        [
         "9",
         "4.9",
         "3.1",
         "0"
        ],
        [
         "10",
         "5.4",
         "3.7",
         "0"
        ],
        [
         "11",
         "4.8",
         "3.4",
         "0"
        ],
        [
         "12",
         "4.8",
         "3.0",
         "0"
        ],
        [
         "13",
         "4.3",
         "3.0",
         "0"
        ],
        [
         "14",
         "5.8",
         "4.0",
         "0"
        ],
        [
         "15",
         "5.7",
         "4.4",
         "0"
        ],
        [
         "16",
         "5.4",
         "3.9",
         "0"
        ],
        [
         "17",
         "5.1",
         "3.5",
         "0"
        ],
        [
         "18",
         "5.7",
         "3.8",
         "0"
        ],
        [
         "19",
         "5.1",
         "3.8",
         "0"
        ],
        [
         "20",
         "5.4",
         "3.4",
         "0"
        ],
        [
         "21",
         "5.1",
         "3.7",
         "0"
        ],
        [
         "22",
         "4.6",
         "3.6",
         "0"
        ],
        [
         "23",
         "5.1",
         "3.3",
         "0"
        ],
        [
         "24",
         "4.8",
         "3.4",
         "0"
        ],
        [
         "25",
         "5.0",
         "3.0",
         "0"
        ],
        [
         "26",
         "5.0",
         "3.4",
         "0"
        ],
        [
         "27",
         "5.2",
         "3.5",
         "0"
        ],
        [
         "28",
         "5.2",
         "3.4",
         "0"
        ],
        [
         "29",
         "4.7",
         "3.2",
         "0"
        ],
        [
         "30",
         "4.8",
         "3.1",
         "0"
        ],
        [
         "31",
         "5.4",
         "3.4",
         "0"
        ],
        [
         "32",
         "5.2",
         "4.1",
         "0"
        ],
        [
         "33",
         "5.5",
         "4.2",
         "0"
        ],
        [
         "34",
         "4.9",
         "3.1",
         "0"
        ],
        [
         "35",
         "5.0",
         "3.2",
         "0"
        ],
        [
         "36",
         "5.5",
         "3.5",
         "0"
        ],
        [
         "37",
         "4.9",
         "3.6",
         "0"
        ],
        [
         "38",
         "4.4",
         "3.0",
         "0"
        ],
        [
         "39",
         "5.1",
         "3.4",
         "0"
        ],
        [
         "40",
         "5.0",
         "3.5",
         "0"
        ],
        [
         "41",
         "4.5",
         "2.3",
         "0"
        ],
        [
         "42",
         "4.4",
         "3.2",
         "0"
        ],
        [
         "43",
         "5.0",
         "3.5",
         "0"
        ],
        [
         "44",
         "5.1",
         "3.8",
         "0"
        ],
        [
         "45",
         "4.8",
         "3.0",
         "0"
        ],
        [
         "46",
         "5.1",
         "3.8",
         "0"
        ],
        [
         "47",
         "4.6",
         "3.2",
         "0"
        ],
        [
         "48",
         "5.3",
         "3.7",
         "0"
        ],
        [
         "49",
         "5.0",
         "3.3",
         "0"
        ]
       ],
       "shape": {
        "columns": 3,
        "rows": 150
       }
      },
      "text/html": [
       "<div>\n",
       "<style scoped>\n",
       "    .dataframe tbody tr th:only-of-type {\n",
       "        vertical-align: middle;\n",
       "    }\n",
       "\n",
       "    .dataframe tbody tr th {\n",
       "        vertical-align: top;\n",
       "    }\n",
       "\n",
       "    .dataframe thead th {\n",
       "        text-align: right;\n",
       "    }\n",
       "</style>\n",
       "<table border=\"1\" class=\"dataframe\">\n",
       "  <thead>\n",
       "    <tr style=\"text-align: right;\">\n",
       "      <th></th>\n",
       "      <th>sepal length (cm)</th>\n",
       "      <th>sepal width (cm)</th>\n",
       "      <th>species</th>\n",
       "    </tr>\n",
       "  </thead>\n",
       "  <tbody>\n",
       "    <tr>\n",
       "      <th>0</th>\n",
       "      <td>5.1</td>\n",
       "      <td>3.5</td>\n",
       "      <td>0</td>\n",
       "    </tr>\n",
       "    <tr>\n",
       "      <th>1</th>\n",
       "      <td>4.9</td>\n",
       "      <td>3.0</td>\n",
       "      <td>0</td>\n",
       "    </tr>\n",
       "    <tr>\n",
       "      <th>2</th>\n",
       "      <td>4.7</td>\n",
       "      <td>3.2</td>\n",
       "      <td>0</td>\n",
       "    </tr>\n",
       "    <tr>\n",
       "      <th>3</th>\n",
       "      <td>4.6</td>\n",
       "      <td>3.1</td>\n",
       "      <td>0</td>\n",
       "    </tr>\n",
       "    <tr>\n",
       "      <th>4</th>\n",
       "      <td>5.0</td>\n",
       "      <td>3.6</td>\n",
       "      <td>0</td>\n",
       "    </tr>\n",
       "    <tr>\n",
       "      <th>...</th>\n",
       "      <td>...</td>\n",
       "      <td>...</td>\n",
       "      <td>...</td>\n",
       "    </tr>\n",
       "    <tr>\n",
       "      <th>145</th>\n",
       "      <td>6.7</td>\n",
       "      <td>3.0</td>\n",
       "      <td>2</td>\n",
       "    </tr>\n",
       "    <tr>\n",
       "      <th>146</th>\n",
       "      <td>6.3</td>\n",
       "      <td>2.5</td>\n",
       "      <td>2</td>\n",
       "    </tr>\n",
       "    <tr>\n",
       "      <th>147</th>\n",
       "      <td>6.5</td>\n",
       "      <td>3.0</td>\n",
       "      <td>2</td>\n",
       "    </tr>\n",
       "    <tr>\n",
       "      <th>148</th>\n",
       "      <td>6.2</td>\n",
       "      <td>3.4</td>\n",
       "      <td>2</td>\n",
       "    </tr>\n",
       "    <tr>\n",
       "      <th>149</th>\n",
       "      <td>5.9</td>\n",
       "      <td>3.0</td>\n",
       "      <td>2</td>\n",
       "    </tr>\n",
       "  </tbody>\n",
       "</table>\n",
       "<p>150 rows × 3 columns</p>\n",
       "</div>"
      ],
      "text/plain": [
       "     sepal length (cm)  sepal width (cm)  species\n",
       "0                  5.1               3.5        0\n",
       "1                  4.9               3.0        0\n",
       "2                  4.7               3.2        0\n",
       "3                  4.6               3.1        0\n",
       "4                  5.0               3.6        0\n",
       "..                 ...               ...      ...\n",
       "145                6.7               3.0        2\n",
       "146                6.3               2.5        2\n",
       "147                6.5               3.0        2\n",
       "148                6.2               3.4        2\n",
       "149                5.9               3.0        2\n",
       "\n",
       "[150 rows x 3 columns]"
      ]
     },
     "execution_count": 88,
     "metadata": {},
     "output_type": "execute_result"
    }
   ],
   "source": [
    "data = sklearn.datasets.load_iris(as_frame=True);\n",
    "df = data['data']\n",
    "\n",
    "df = df.drop(columns=['petal length (cm)', 'petal width (cm)'])\n",
    "df['species'] = data['target']\n",
    "# 0: 'setosa', 1: 'versicolor', 2: 'virginica'\n",
    "df"
   ]
  },
  {
   "cell_type": "code",
   "execution_count": 89,
   "id": "62ea2700",
   "metadata": {},
   "outputs": [
    {
     "data": {
      "text/plain": [
       "Text(0, 0.5, 'Ancho del Sépalo (cm)')"
      ]
     },
     "execution_count": 89,
     "metadata": {},
     "output_type": "execute_result"
    },
    {
     "data": {
      "image/png": "[encoded data removed]",
      "text/plain": [
       "<Figure size 640x480 with 2 Axes>"
      ]
     },
     "metadata": {},
     "output_type": "display_data"
    }
   ],
   "source": [
    "scatter = df.plot.scatter(x='sepal length (cm)', y='sepal width (cm)', c='species', colormap='viridis')\n",
    "plt.title('Iris Dataset')\n",
    "plt.xlabel('Largo del Sépalo (cm)')\n",
    "plt.ylabel('Ancho del Sépalo (cm)')"
   ]
  },
  {
   "cell_type": "code",
   "execution_count": 90,
   "id": "04031146",
   "metadata": {},
   "outputs": [
    {
     "name": "stdout",
     "output_type": "stream",
     "text": [
      "X_train shape: (105, 2)\n",
      "X_test shape: (45, 2)\n",
      "y_train shape: (105,)\n",
      "y_test shape: (45,)\n"
     ]
    }
   ],
   "source": [
    "X_np = df[['sepal length (cm)', 'sepal width (cm)']].to_numpy()\n",
    "y_np = df['species'].to_numpy()\n",
    "\n",
    "from sklearn.model_selection import train_test_split\n",
    "X_train, X_test, y_train, y_test = train_test_split(X_np, y_np, train_size = 0.7, test_size=0.3, random_state=0)\n",
    "\n",
    "\n",
    "print(f\"X_train shape: {X_train.shape}\")\n",
    "print(f\"X_test shape: {X_test.shape}\")\n",
    "print(f\"y_train shape: {y_train.shape}\")\n",
    "print(f\"y_test shape: {y_test.shape}\")\n"
   ]
  },
  {
   "cell_type": "code",
   "execution_count": 91,
   "id": "b759fcbe",
   "metadata": {},
   "outputs": [],
   "source": [
    "from scipy.special import softmax\n",
    "\n",
    "class LDA:\n",
    "    def __init__(self):\n",
    "        self.clases = None\n",
    "        self.mu_k = {}\n",
    "        self.c_k = {}\n",
    "        self.sigma = None\n",
    "        self.sigma_inv = None\n",
    "        self.w = {}\n",
    "        self.b = {}\n",
    "\n",
    "\n",
    "    def fit(self, X, y):\n",
    "        # Convertir y a 1D si es necesario\n",
    "        self.clases = np.unique(y)\n",
    "        n_clases = len(self.clases)\n",
    "        n_muestras = X.shape[0]\n",
    "\n",
    "        self.D_k = {}\n",
    "        self.c_k = {}\n",
    "        self.mu_k = {}\n",
    "        self.sigma_k = {}\n",
    "        total_sigma = np.zeros((X.shape[1], X.shape[1]))  # para acumular Σ\n",
    "\n",
    "        for k in self.clases:\n",
    "            D_k = X[y == k]\n",
    "            self.D_k[k] = D_k\n",
    "            self.c_k[k] = len(D_k) / n_muestras\n",
    "            self.mu_k[k] = np.mean(D_k, axis=0)\n",
    "            self.sigma_k[k] = np.cov(D_k.T, bias=False)  # dividimos por |Dk| - 1\n",
    "\n",
    "            # Acumular para el cálculo de Σ (la covarianza global)\n",
    "            total_sigma += (len(D_k) - 1) * self.sigma_k[k]\n",
    "\n",
    "        self.sigma = total_sigma / (n_muestras - n_clases)\n",
    "        self.sigma_inv = np.linalg.inv(self.sigma)\n",
    "\n",
    "        # Cálculo de w_y y b_y para cada clase\n",
    "        self.w = {}\n",
    "        self.b = {}\n",
    "        for k in self.clases:\n",
    "            mu = self.mu_k[k]\n",
    "            c = self.c_k[k]\n",
    "            self.w[k] = self.sigma_inv @ mu\n",
    "            self.b[k] = -0.5 * mu.T @ self.sigma_inv @ mu + np.log(c)\n",
    "\n",
    "        return self\n",
    "\n",
    "    def predict_proba(self, X):\n",
    "        scores = np.array([X @ self.w[k] + self.b[k] for k in self.clases])  # (K, n_muestras)\n",
    "        probs = softmax(scores, axis=0).T  # Transponemos para (n_muestras, K)\n",
    "        return probs\n",
    "\n",
    "    def predict(self, X):\n",
    "        probs = self.predict_proba(X)\n",
    "        return self.clases[np.argmax(probs, axis=1)]\n"
   ]
  },
  {
   "cell_type": "code",
   "execution_count": 92,
   "id": "3d084b57",
   "metadata": {},
   "outputs": [
    {
     "name": "stdout",
     "output_type": "stream",
     "text": [
      "Predicciones: [1 1 0 2 0 2 0 2 2 1 1 2 1 2 1 0 1 1 0 0 1 1 0 0 1 0 0 1 1 0 2 1 0 1 2 1 0\n",
      " 1 1 1 2 0 2 0 0]\n",
      "Exactitud: 0.8\n"
     ]
    }
   ],
   "source": [
    "clasificador = LDA()\n",
    "clasificador.fit(X_train, y_train)\n",
    "y_pred = clasificador.predict(X_test)\n",
    "\n",
    "# Imprimir resultados para verificar\n",
    "print(\"Predicciones:\", y_pred)\n",
    "print(\"Exactitud:\", np.mean(y_pred == y_test))\n"
   ]
  },
  {
   "cell_type": "code",
   "execution_count": 93,
   "id": "3696df0a",
   "metadata": {},
   "outputs": [
    {
     "ename": "TypeError",
     "evalue": "Ellipse.__init__() takes 4 positional arguments but 5 were given",
     "output_type": "error",
     "traceback": [
      "\u001b[1;31m---------------------------------------------------------------------------\u001b[0m",
      "\u001b[1;31mTypeError\u001b[0m                                 Traceback (most recent call last)",
      "Cell \u001b[1;32mIn[93], line 23\u001b[0m\n\u001b[0;32m     21\u001b[0m     mean \u001b[38;5;241m=\u001b[39m clasificador\u001b[38;5;241m.\u001b[39mmu_k[k]\n\u001b[0;32m     22\u001b[0m     cov \u001b[38;5;241m=\u001b[39m clasificador\u001b[38;5;241m.\u001b[39msigma\n\u001b[1;32m---> 23\u001b[0m     plot_gaussian_contours(ax, mean, cov, colors[i])\n\u001b[0;32m     25\u001b[0m plt\u001b[38;5;241m.\u001b[39mshow()\n",
      "Cell \u001b[1;32mIn[93], line 11\u001b[0m, in \u001b[0;36mplot_gaussian_contours\u001b[1;34m(ax, mean, cov, color)\u001b[0m\n\u001b[0;32m      8\u001b[0m angle \u001b[38;5;241m=\u001b[39m np\u001b[38;5;241m.\u001b[39mdegrees(np\u001b[38;5;241m.\u001b[39marctan2(\u001b[38;5;241m*\u001b[39meigenvectors[:, \u001b[38;5;241m0\u001b[39m][::\u001b[38;5;241m-\u001b[39m\u001b[38;5;241m1\u001b[39m]))\n\u001b[0;32m      9\u001b[0m width, height \u001b[38;5;241m=\u001b[39m \u001b[38;5;241m2\u001b[39m \u001b[38;5;241m*\u001b[39m np\u001b[38;5;241m.\u001b[39msqrt(eigenvalues)  \u001b[38;5;66;03m# Escala de 2 desviaciones estándar\u001b[39;00m\n\u001b[1;32m---> 11\u001b[0m ellipse \u001b[38;5;241m=\u001b[39m Ellipse(mean, width, height, angle, edgecolor\u001b[38;5;241m=\u001b[39mcolor, facecolor\u001b[38;5;241m=\u001b[39m\u001b[38;5;124m'\u001b[39m\u001b[38;5;124mnone\u001b[39m\u001b[38;5;124m'\u001b[39m, linewidth\u001b[38;5;241m=\u001b[39m\u001b[38;5;241m2\u001b[39m)\n\u001b[0;32m     12\u001b[0m ax\u001b[38;5;241m.\u001b[39madd_patch(ellipse)\n",
      "\u001b[1;31mTypeError\u001b[0m: Ellipse.__init__() takes 4 positional arguments but 5 were given"
     ]
    },
    {
     "data": {
      "text/plain": [
       "<Figure size 1000x600 with 0 Axes>"
      ]
     },
     "metadata": {},
     "output_type": "display_data"
    },
    {
     "data": {
      "image/png": "[encoded data removed]",
      "text/plain": [
       "<Figure size 640x480 with 2 Axes>"
      ]
     },
     "metadata": {},
     "output_type": "display_data"
    }
   ],
   "source": [
    "# Superponer las medias y las covarianzas de cada gaussiana\n",
    "from matplotlib.patches import Ellipse\n",
    "def plot_gaussian_contours(ax, mean, cov, color):\n",
    "    eigenvalues, eigenvectors = np.linalg.eigh(cov)\n",
    "    order = eigenvalues.argsort()[::-1]\n",
    "    eigenvalues, eigenvectors = eigenvalues[order], eigenvectors[:, order]\n",
    "\n",
    "    angle = np.degrees(np.arctan2(*eigenvectors[:, 0][::-1]))\n",
    "    width, height = 2 * np.sqrt(eigenvalues)  # Escala de 2 desviaciones estándar\n",
    "\n",
    "    ellipse = Ellipse(mean, width, height, angle, edgecolor=color, facecolor='none', linewidth=2)\n",
    "    ax.add_patch(ellipse)\n",
    "\n",
    "\n",
    "# Graficar las gaussianas\n",
    "plt.figure(figsize=(10, 6))\n",
    "ax = df.plot.scatter(x='sepal length (cm)', y='sepal width (cm)', c='species', colormap='viridis')\n",
    "plt.title('Iris Dataset with Gaussian Contours')\n",
    "colors = ['red', 'blue', 'green']\n",
    "for i, k in enumerate(clasificador.clases):\n",
    "    mean = clasificador.mu_k[k]\n",
    "    cov = clasificador.sigma\n",
    "    plot_gaussian_contours(ax, mean, cov, colors[i])\n",
    "\n",
    "plt.show()"
   ]
  }
 ],
 "metadata": {
  "kernelspec": {
   "display_name": "base",
   "language": "python",
   "name": "python3"
  },
  "language_info": {
   "codemirror_mode": {
    "name": "ipython",
    "version": 3
   },
   "file_extension": ".py",
   "mimetype": "text/x-python",
   "name": "python",
   "nbconvert_exporter": "python",
   "pygments_lexer": "ipython3",
   "version": "3.11.7"
  }
 },
 "nbformat": 4,
 "nbformat_minor": 5
}
