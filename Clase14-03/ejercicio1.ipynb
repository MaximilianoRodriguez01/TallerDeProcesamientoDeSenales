{
 "cells": [
  {
   "cell_type": "markdown",
   "metadata": {},
   "source": [
    "## Ejercicio de Probabilidad"
   ]
  },
  {
   "cell_type": "markdown",
   "metadata": {},
   "source": [
    "\n",
    "Tenemos la función de densidad $f_{xy} = \\frac{4}{5} \\cdot \\mathbb{1}_{[0 \\leq x \\leq 1,   0 \\leq y \\leq (1 + x^3)]}$\n"
   ]
  },
  {
   "cell_type": "code",
   "execution_count": 1,
   "metadata": {},
   "outputs": [
    {
     "data": {
      "image/png": "[encoded data removed]",
      "text/plain": [
       "<Figure size 640x480 with 1 Axes>"
      ]
     },
     "metadata": {},
     "output_type": "display_data"
    }
   ],
   "source": [
    "import numpy as np\n",
    "\n",
    "import matplotlib.pyplot as plt\n",
    "\n",
    "X = np.linspace(0, 1, 20)\n",
    "Y = 1 + X**3\n",
    "\n",
    "plt.plot(X, Y)\n",
    "plt.grid(True)\n",
    "plt.ylim(0, 2)\n",
    "plt.show()\n"
   ]
  },
  {
   "cell_type": "markdown",
   "metadata": {},
   "source": [
    "Sabemos que la función de probabilidad es de la forma $ P = \\int_{a}^{b} \\int_{c}^{d} f_{xy}(x, y) \\, dx \\, dy $"
   ]
  },
  {
   "cell_type": "markdown",
   "metadata": {},
   "source": [
    "Tenemos que la probabilidad conjunta es \n",
    "\n",
    "$P(x,y) = P(Y|X)\\cdot P(X)$\n",
    "\n",
    "Y sabemos que:\n",
    "\n",
    "$P(x) = (1 + x^3)*\\frac{4}{5}$\n",
    "\n",
    "Luego, calculamos la probabilidad de Y dado X\n",
    "\n",
    "$P(Y|X) -> U[0, 1+x^3]$\n",
    "\n",
    "$P(Y|X) = \\frac{1}{1+x^3} \\cdot \\mathbb{1}_{[0 \\leq y \\leq (1 + x^3)]}$"
   ]
  },
  {
   "cell_type": "markdown",
   "metadata": {},
   "source": [
    "Para calcular la esperanza tenemos que:\n",
    "\n",
    "$E[X^k] = \\int_{0}^{1} X^k \\cdot (1+X^3) \\cdot \\frac{4}{5}$\n",
    "\n",
    "$E[X^k] = \\frac{4}{5}\\cdot(\\frac{1}{k+1}+\\frac{1}{k+4})$\n",
    "\n",
    "\n",
    "Luego,\n",
    "\n",
    "$E[Y|X] = \\frac{1+x^3}{2}$\n",
    "\n",
    "$g(X) = \\hat{Y} = E[Y|X]$"
   ]
  },
  {
   "cell_type": "markdown",
   "metadata": {},
   "source": [
    "### Propiedades de la Esperanza\n",
    "\n",
    "$E[E[X|Y]] = E[X]$\n",
    "\n",
    "$E[XE[Y|X]] = E[XY]$"
   ]
  },
  {
   "cell_type": "markdown",
   "metadata": {},
   "source": [
    "### Error cuadrático medio\n",
    "\n",
    "$e = \\hat{Y} - Y$\n",
    "\n",
    "$ECM = E[e^2] = E[(\\hat{Y} - Y)^2]$"
   ]
  },
  {
   "cell_type": "markdown",
   "metadata": {},
   "source": [
    "### Resultado\n",
    "\n",
    "Finalmente, \n",
    "\n",
    "$ Var(Y|X) = \\frac{(1+x^3)^2}{12} $\n",
    "\n",
    "$ J = E[(e^2)] = E[Var(Y|X)] $"
   ]
  },
  {
   "cell_type": "markdown",
   "metadata": {},
   "source": [
    "### Mas detalles\n",
    "\n",
    "$\\hat{Y} = \\frac{Cov(X,Y)}{\\sigma _x \\cdot \\sigma _y} \\cdot X$\n",
    "\n",
    "$\\hat{Y} - \\mu _y = \\frac{Cov(X,Y)}{\\sigma _x \\cdot \\sigma _y} \\cdot (X - \\mu _x)$\n",
    "\n",
    "$\\hat{Y}= \\frac{Cov(X,Y)}{\\sigma _X^2} \\cdot (X - \\mu _x) + \\mu_y$"
   ]
  },
  {
   "cell_type": "code",
   "execution_count": null,
   "metadata": {},
   "outputs": [],
   "source": []
  },
  {
   "cell_type": "markdown",
   "metadata": {},
   "source": []
  }
 ],
 "metadata": {
  "kernelspec": {
   "display_name": "Python 3",
   "language": "python",
   "name": "python3"
  },
  "language_info": {
   "codemirror_mode": {
    "name": "ipython",
    "version": 3
   },
   "file_extension": ".py",
   "mimetype": "text/x-python",
   "name": "python",
   "nbconvert_exporter": "python",
   "pygments_lexer": "ipython3",
   "version": "3.13.2"
  }
 },
 "nbformat": 4,
 "nbformat_minor": 2
}
