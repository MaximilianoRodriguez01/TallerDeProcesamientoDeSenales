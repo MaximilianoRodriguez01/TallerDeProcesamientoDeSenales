{
 "cells": [
  {
   "cell_type": "code",
   "execution_count": 1,
   "id": "e97f5702",
   "metadata": {},
   "outputs": [],
   "source": [
    "import numpy as np\n",
    "import pandas as pd\n",
    "import matplotlib.pyplot as plt\n",
    "import sklearn\n",
    "import seaborn as sns"
   ]
  },
  {
   "cell_type": "code",
   "execution_count": 2,
   "id": "1cb3b97e",
   "metadata": {},
   "outputs": [
    {
     "data": {
      "application/vnd.microsoft.datawrangler.viewer.v0+json": {
       "columns": [
        {
         "name": "index",
         "rawType": "int64",
         "type": "integer"
        },
        {
         "name": "duration",
         "rawType": "float64",
         "type": "float"
        },
        {
         "name": "waiting",
         "rawType": "int64",
         "type": "integer"
        },
        {
         "name": "kind",
         "rawType": "object",
         "type": "string"
        }
       ],
       "conversionMethod": "pd.DataFrame",
       "ref": "a3bd273d-30d0-43db-899c-b38a1044b584",
       "rows": [
        [
         "0",
         "3.6",
         "79",
         "long"
        ],
        [
         "1",
         "1.8",
         "54",
         "short"
        ],
        [
         "2",
         "3.333",
         "74",
         "long"
        ],
        [
         "3",
         "2.283",
         "62",
         "short"
        ],
        [
         "4",
         "4.533",
         "85",
         "long"
        ],
        [
         "5",
         "2.883",
         "55",
         "short"
        ],
        [
         "6",
         "4.7",
         "88",
         "long"
        ],
        [
         "7",
         "3.6",
         "85",
         "long"
        ],
        [
         "8",
         "1.95",
         "51",
         "short"
        ],
        [
         "9",
         "4.35",
         "85",
         "long"
        ],
        [
         "10",
         "1.833",
         "54",
         "short"
        ],
        [
         "11",
         "3.917",
         "84",
         "long"
        ],
        [
         "12",
         "4.2",
         "78",
         "long"
        ],
        [
         "13",
         "1.75",
         "47",
         "short"
        ],
        [
         "14",
         "4.7",
         "83",
         "long"
        ],
        [
         "15",
         "2.167",
         "52",
         "short"
        ],
        [
         "16",
         "1.75",
         "62",
         "short"
        ],
        [
         "17",
         "4.8",
         "84",
         "long"
        ],
        [
         "18",
         "1.6",
         "52",
         "short"
        ],
        [
         "19",
         "4.25",
         "79",
         "long"
        ],
        [
         "20",
         "1.8",
         "51",
         "short"
        ],
        [
         "21",
         "1.75",
         "47",
         "short"
        ],
        [
         "22",
         "3.45",
         "78",
         "long"
        ],
        [
         "23",
         "3.067",
         "69",
         "long"
        ],
        [
         "24",
         "4.533",
         "74",
         "long"
        ],
        [
         "25",
         "3.6",
         "83",
         "long"
        ],
        [
         "26",
         "1.967",
         "55",
         "short"
        ],
        [
         "27",
         "4.083",
         "76",
         "long"
        ],
        [
         "28",
         "3.85",
         "78",
         "long"
        ],
        [
         "29",
         "4.433",
         "79",
         "long"
        ],
        [
         "30",
         "4.3",
         "73",
         "long"
        ],
        [
         "31",
         "4.467",
         "77",
         "long"
        ],
        [
         "32",
         "3.367",
         "66",
         "short"
        ],
        [
         "33",
         "4.033",
         "80",
         "long"
        ],
        [
         "34",
         "3.833",
         "74",
         "long"
        ],
        [
         "35",
         "2.017",
         "52",
         "short"
        ],
        [
         "36",
         "1.867",
         "48",
         "short"
        ],
        [
         "37",
         "4.833",
         "80",
         "long"
        ],
        [
         "38",
         "1.833",
         "59",
         "short"
        ],
        [
         "39",
         "4.783",
         "90",
         "long"
        ],
        [
         "40",
         "4.35",
         "80",
         "long"
        ],
        [
         "41",
         "1.883",
         "58",
         "short"
        ],
        [
         "42",
         "4.567",
         "84",
         "long"
        ],
        [
         "43",
         "1.75",
         "58",
         "short"
        ],
        [
         "44",
         "4.533",
         "73",
         "long"
        ],
        [
         "45",
         "3.317",
         "83",
         "long"
        ],
        [
         "46",
         "3.833",
         "64",
         "short"
        ],
        [
         "47",
         "2.1",
         "53",
         "short"
        ],
        [
         "48",
         "4.633",
         "82",
         "long"
        ],
        [
         "49",
         "2.0",
         "59",
         "short"
        ]
       ],
       "shape": {
        "columns": 3,
        "rows": 272
       }
      },
      "text/html": [
       "<div>\n",
       "<style scoped>\n",
       "    .dataframe tbody tr th:only-of-type {\n",
       "        vertical-align: middle;\n",
       "    }\n",
       "\n",
       "    .dataframe tbody tr th {\n",
       "        vertical-align: top;\n",
       "    }\n",
       "\n",
       "    .dataframe thead th {\n",
       "        text-align: right;\n",
       "    }\n",
       "</style>\n",
       "<table border=\"1\" class=\"dataframe\">\n",
       "  <thead>\n",
       "    <tr style=\"text-align: right;\">\n",
       "      <th></th>\n",
       "      <th>duration</th>\n",
       "      <th>waiting</th>\n",
       "      <th>kind</th>\n",
       "    </tr>\n",
       "  </thead>\n",
       "  <tbody>\n",
       "    <tr>\n",
       "      <th>0</th>\n",
       "      <td>3.600</td>\n",
       "      <td>79</td>\n",
       "      <td>long</td>\n",
       "    </tr>\n",
       "    <tr>\n",
       "      <th>1</th>\n",
       "      <td>1.800</td>\n",
       "      <td>54</td>\n",
       "      <td>short</td>\n",
       "    </tr>\n",
       "    <tr>\n",
       "      <th>2</th>\n",
       "      <td>3.333</td>\n",
       "      <td>74</td>\n",
       "      <td>long</td>\n",
       "    </tr>\n",
       "    <tr>\n",
       "      <th>3</th>\n",
       "      <td>2.283</td>\n",
       "      <td>62</td>\n",
       "      <td>short</td>\n",
       "    </tr>\n",
       "    <tr>\n",
       "      <th>4</th>\n",
       "      <td>4.533</td>\n",
       "      <td>85</td>\n",
       "      <td>long</td>\n",
       "    </tr>\n",
       "    <tr>\n",
       "      <th>...</th>\n",
       "      <td>...</td>\n",
       "      <td>...</td>\n",
       "      <td>...</td>\n",
       "    </tr>\n",
       "    <tr>\n",
       "      <th>267</th>\n",
       "      <td>4.117</td>\n",
       "      <td>81</td>\n",
       "      <td>long</td>\n",
       "    </tr>\n",
       "    <tr>\n",
       "      <th>268</th>\n",
       "      <td>2.150</td>\n",
       "      <td>46</td>\n",
       "      <td>short</td>\n",
       "    </tr>\n",
       "    <tr>\n",
       "      <th>269</th>\n",
       "      <td>4.417</td>\n",
       "      <td>90</td>\n",
       "      <td>long</td>\n",
       "    </tr>\n",
       "    <tr>\n",
       "      <th>270</th>\n",
       "      <td>1.817</td>\n",
       "      <td>46</td>\n",
       "      <td>short</td>\n",
       "    </tr>\n",
       "    <tr>\n",
       "      <th>271</th>\n",
       "      <td>4.467</td>\n",
       "      <td>74</td>\n",
       "      <td>long</td>\n",
       "    </tr>\n",
       "  </tbody>\n",
       "</table>\n",
       "<p>272 rows × 3 columns</p>\n",
       "</div>"
      ],
      "text/plain": [
       "     duration  waiting   kind\n",
       "0       3.600       79   long\n",
       "1       1.800       54  short\n",
       "2       3.333       74   long\n",
       "3       2.283       62  short\n",
       "4       4.533       85   long\n",
       "..        ...      ...    ...\n",
       "267     4.117       81   long\n",
       "268     2.150       46  short\n",
       "269     4.417       90   long\n",
       "270     1.817       46  short\n",
       "271     4.467       74   long\n",
       "\n",
       "[272 rows x 3 columns]"
      ]
     },
     "execution_count": 2,
     "metadata": {},
     "output_type": "execute_result"
    }
   ],
   "source": [
    "data = sns.load_dataset(\"geyser\")\n",
    "data\n"
   ]
  },
  {
   "cell_type": "code",
   "execution_count": null,
   "id": "3296484e",
   "metadata": {},
   "outputs": [],
   "source": [
    "x1 = np.array(data[\"duration\"])\n",
    "x2 = np.array(data[\"waiting\"])\n",
    "y = np.array(data[\"kind\"]);\n",
    "y = np.where(y == \"long\", 1, 0)"
   ]
  },
  {
   "cell_type": "markdown",
   "id": "65f30530",
   "metadata": {},
   "source": [
    "## Maquina de vectores soporte\n",
    "\n",
    "### Clases linealmente separables\n",
    "Sea la clasificación binaria $y ∈ {−1, 1}$ y $z(x) = w^T · x + b = 0$ su\n",
    "frontera de decisión. \n",
    "Decimos que las clases son linealmente separables, si\n",
    "existen w y b tales que $y \\cdot z(x) > 0$ para todo $(x, y) ∈ Dn$ (set de\n",
    "entrenamiento). Llamamos $fi(w, b) = yi z(xi) > 0$ con $1 ≤ i ≤ n$.\n",
    "\n"
   ]
  },
  {
   "cell_type": "markdown",
   "id": "e6db718c",
   "metadata": {},
   "source": [
    "## Problema de optimización primal\n",
    "\n"
   ]
  },
  {
   "cell_type": "code",
   "execution_count": null,
   "id": "3b32bb71",
   "metadata": {},
   "outputs": [
    {
     "ename": "IndentationError",
     "evalue": "expected an indented block after class definition on line 1 (2428127030.py, line 3)",
     "output_type": "error",
     "traceback": [
      "\u001b[1;36m  Cell \u001b[1;32mIn[4], line 3\u001b[1;36m\u001b[0m\n\u001b[1;33m    def __init__(self,...):\u001b[0m\n\u001b[1;37m    ^\u001b[0m\n\u001b[1;31mIndentationError\u001b[0m\u001b[1;31m:\u001b[0m expected an indented block after class definition on line 1\n"
     ]
    }
   ],
   "source": [
    "class svm:\n",
    "# Inicializar atributos y declarar hiperpar´ametros\n",
    "    def __init__(self):\n",
    "\n",
    "\n",
    "\n",
    "# Etapa de entrenamiento\n",
    "    def fit(self,X,y):\n",
    "# Etapa de testeo\n",
    "    def predict(self,X):\n",
    "    "
   ]
  }
 ],
 "metadata": {
  "kernelspec": {
   "display_name": "base",
   "language": "python",
   "name": "python3"
  },
  "language_info": {
   "codemirror_mode": {
    "name": "ipython",
    "version": 3
   },
   "file_extension": ".py",
   "mimetype": "text/x-python",
   "name": "python",
   "nbconvert_exporter": "python",
   "pygments_lexer": "ipython3",
   "version": "3.11.7"
  }
 },
 "nbformat": 4,
 "nbformat_minor": 5
}
